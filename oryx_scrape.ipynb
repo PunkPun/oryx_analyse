{
 "cells": [
  {
   "cell_type": "code",
   "execution_count": 1,
   "metadata": {},
   "outputs": [],
   "source": [
    "import requests\n",
    "from bs4 import BeautifulSoup\n",
    "import os"
   ]
  },
  {
   "cell_type": "code",
   "execution_count": 12,
   "metadata": {},
   "outputs": [],
   "source": [
    "russia_url = \"https://www.oryxspioenkop.com/2022/02/attack-on-europe-documenting-equipment.html\"\n",
    "ukraine_url = \"https://www.oryxspioenkop.com/2022/02/attack-on-europe-documenting-ukrainian.html\"\n",
    "\n",
    "russia = requests.get(russia_url)\n",
    "ukraine = requests.get(ukraine_url)"
   ]
  },
  {
   "cell_type": "code",
   "execution_count": 58,
   "metadata": {},
   "outputs": [],
   "source": [
    "soup = BeautifulSoup(ukraine.content, \"html.parser\")\n",
    "\n",
    "li = soup.find_all(\"li\")\n",
    "\n",
    "\n",
    "\n"
   ]
  },
  {
   "cell_type": "code",
   "execution_count": 59,
   "metadata": {},
   "outputs": [
    {
     "name": "stdout",
     "output_type": "stream",
     "text": [
      "String exists: False\n",
      "captured and later destroyed\n",
      "damaged on the ground\n",
      "abandoned\n",
      "damaged and abandoned\n",
      "destroyed on the ground\n",
      "captured\n",
      "BG-32 'Donbass' sunk\n",
      "destroyed\n",
      "damaged and captured\n",
      "abandoned and destroyed\n",
      "damaged beyond economical repair\n",
      "captured and destroyed\n",
      "damaged\n"
     ]
    }
   ],
   "source": [
    "import re\n",
    "\n",
    "# Check if the specific string exists in any of the a elements\n",
    "string_to_search = \"(6, damaged beyond economical repair on the ground)\"\n",
    "exists = any(string_to_search in a.text for a in li)\n",
    "print(f\"String exists: {exists}\")\n",
    "\n",
    "data = [re.findall(r'\\((.*?)\\)', a.text) for a in li if re.findall(r'\\((.*?)\\)', a.text)]\n",
    "data = [item for sublist in data for item in sublist]\n",
    "data = [a.split(\", \")[1] for a in data if len(a.split(\", \")) == 2]\n",
    "\n",
    "for a in set(data):\n",
    "    print(a)\n"
   ]
  }
 ],
 "metadata": {
  "kernelspec": {
   "display_name": "data_analysis",
   "language": "python",
   "name": "python3"
  },
  "language_info": {
   "codemirror_mode": {
    "name": "ipython",
    "version": 3
   },
   "file_extension": ".py",
   "mimetype": "text/x-python",
   "name": "python",
   "nbconvert_exporter": "python",
   "pygments_lexer": "ipython3",
   "version": "3.13.0"
  }
 },
 "nbformat": 4,
 "nbformat_minor": 2
}
